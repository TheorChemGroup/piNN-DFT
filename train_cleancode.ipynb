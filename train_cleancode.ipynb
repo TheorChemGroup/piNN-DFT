{
 "cells": [
  {
   "cell_type": "code",
   "execution_count": 41,
   "metadata": {},
   "outputs": [
    {
     "name": "stdout",
     "output_type": "stream",
     "text": [
      "CPU times: user 292 µs, sys: 37 µs, total: 329 µs\n",
      "Wall time: 870 µs\n"
     ]
    }
   ],
   "source": [
    "%%time\n",
    "\n",
    "import numpy as np\n",
    "import torch\n",
    "import gc\n",
    "import random\n",
    "from torch import nn\n",
    "from sklearn.metrics import mean_absolute_error\n",
    "from tqdm.notebook import tqdm\n",
    "from NN_models import NN_2_256, NN_4_256, NN_8_256, NN_8_64, NN_4_128, NN_8_128, MLOptimizer\n",
    "from reaction_energy_calculation import calculate_reaction_energy\n",
    "from prepare_data import prepare, save_chk, load_chk\n",
    "\n",
    "\n",
    "def set_random_seed(seed):\n",
    "    # seed everything\n",
    "    torch.backends.cudnn.deterministic = True\n",
    "    torch.backends.cudnn.benchmark = False\n",
    "    torch.manual_seed(seed)\n",
    "    torch.cuda.manual_seed(seed)\n",
    "    np.random.seed(seed)\n",
    "    random.seed(seed)\n",
    "\n",
    "set_random_seed(41)"
   ]
  },
  {
   "cell_type": "code",
   "execution_count": 2,
   "metadata": {},
   "outputs": [],
   "source": [
    "# %%time\n",
    "# data, data_train, data_test = prepare(path='data', test_size=0.2)\n",
    "\n",
    "# %%time\n",
    "# save_chk(data, data_train, data_test, path='checkpoints')"
   ]
  },
  {
   "cell_type": "code",
   "execution_count": 3,
   "metadata": {},
   "outputs": [
    {
     "name": "stdout",
     "output_type": "stream",
     "text": [
      "CPU times: user 4.61 s, sys: 5.18 s, total: 9.79 s\n",
      "Wall time: 9.87 s\n"
     ]
    }
   ],
   "source": [
    "%%time\n",
    "data, data_train, data_test = load_chk(path='checkpoints')"
   ]
  },
  {
   "cell_type": "code",
   "execution_count": 4,
   "metadata": {},
   "outputs": [],
   "source": [
    "class Dataset(torch.utils.data.Dataset):\n",
    "    def __init__(self, data):\n",
    "\n",
    "        self.data = data\n",
    "        \n",
    "    def __getitem__(self, i):\n",
    "        self.data[i].pop('Database', None)\n",
    "\n",
    "        return self.data[i], self.data[i]['Energy']\n",
    "    \n",
    "    def __len__(self):\n",
    "        return len(self.data.keys())\n",
    "\n",
    "\n",
    "train_set = Dataset(data=data_train)\n",
    "train_dataloader = torch.utils.data.DataLoader(train_set, \n",
    "                                               batch_size=None,\n",
    "                                               num_workers=2,\n",
    "                                               pin_memory=True,\n",
    "                                               shuffle=True)\n",
    "\n",
    "test_set = Dataset(data=data_test)\n",
    "test_dataloader = torch.utils.data.DataLoader(test_set, \n",
    "                                              batch_size=None,\n",
    "                                              num_workers=2,\n",
    "                                              pin_memory=True,\n",
    "                                              shuffle=True)"
   ]
  },
  {
   "cell_type": "code",
   "execution_count": 5,
   "metadata": {},
   "outputs": [
    {
     "name": "stdout",
     "output_type": "stream",
     "text": [
      "cuda:0\n"
     ]
    },
    {
     "data": {
      "text/plain": [
       "<All keys matched successfully>"
      ]
     },
     "execution_count": 5,
     "metadata": {},
     "output_type": "execute_result"
    }
   ],
   "source": [
    "device = torch.device('cuda:0') if torch.cuda.is_available else torch.device('cpu')\n",
    "print(device)\n",
    "criterion = nn.MSELoss()\n",
    "model = NN_4_256(nconstants=24, DFT='PBE').to(device)\n",
    "\n",
    "model.load_state_dict(torch.load('model_chk/predopt/PBE_4_256.param', map_location=device))"
   ]
  },
  {
   "cell_type": "code",
   "execution_count": null,
   "metadata": {},
   "outputs": [],
   "source": []
  },
  {
   "cell_type": "code",
   "execution_count": 55,
   "metadata": {},
   "outputs": [
    {
     "data": {
      "text/plain": [
       "<module 'NN_models' from '/home/duzaripov/ML-parameterization-of-DFT-functionals/NN_models.py'>"
      ]
     },
     "execution_count": 55,
     "metadata": {},
     "output_type": "execute_result"
    }
   ],
   "source": [
    "from importlib import reload\n",
    "import predopt\n",
    "reload(predopt)\n",
    "import NN_models\n",
    "reload(NN_models)"
   ]
  },
  {
   "cell_type": "code",
   "execution_count": 56,
   "metadata": {},
   "outputs": [
    {
     "name": "stdout",
     "output_type": "stream",
     "text": [
      "CPU times: user 174 µs, sys: 0 ns, total: 174 µs\n",
      "Wall time: 185 µs\n"
     ]
    }
   ],
   "source": [
    "%%time\n",
    "\n",
    "from predopt import DatasetPredopt\n",
    "train_predopt_set = DatasetPredopt(data=data, dft='PBE')\n",
    "train_predopt_dataloader = torch.utils.data.DataLoader(train_predopt_set,\n",
    "                                                       batch_size=None,\n",
    "                                                       num_workers=0,\n",
    "                                                       pin_memory=True,\n",
    "                                                       shuffle=True)"
   ]
  },
  {
   "cell_type": "code",
   "execution_count": 65,
   "metadata": {},
   "outputs": [],
   "source": [
    "model = MLOptimizer(num_layers=10, h_dim=32, nconstants=24, DFT='PBE').to(device)"
   ]
  },
  {
   "cell_type": "code",
   "execution_count": 66,
   "metadata": {},
   "outputs": [],
   "source": [
    "optimizer = torch.optim.Adam(model.parameters(), lr=3e-3, betas=(0.9, 0.999), weight_decay=0.01)"
   ]
  },
  {
   "cell_type": "code",
   "execution_count": 67,
   "metadata": {
    "tags": []
   },
   "outputs": [
    {
     "name": "stdout",
     "output_type": "stream",
     "text": [
      "Epoch 1\n"
     ]
    },
    {
     "data": {
      "application/vnd.jupyter.widget-view+json": {
       "model_id": "95f6fa0115e344a387b6935271417c6f",
       "version_major": 2,
       "version_minor": 0
      },
      "text/plain": [
       "  0%|          | 0/267 [00:00<?, ?it/s]"
      ]
     },
     "metadata": {},
     "output_type": "display_data"
    },
    {
     "name": "stdout",
     "output_type": "stream",
     "text": [
      "train MSE Loss = 3.24687798\n",
      "train MAE Loss = 0.63823289\n",
      "Epoch 2\n"
     ]
    },
    {
     "data": {
      "application/vnd.jupyter.widget-view+json": {
       "model_id": "dc1fc71f2b924fb4be9f0e47ae07b5e9",
       "version_major": 2,
       "version_minor": 0
      },
      "text/plain": [
       "  0%|          | 0/267 [00:00<?, ?it/s]"
      ]
     },
     "metadata": {},
     "output_type": "display_data"
    },
    {
     "name": "stdout",
     "output_type": "stream",
     "text": [
      "train MSE Loss = 0.16968893\n",
      "train MAE Loss = 0.17446727\n",
      "Epoch 3\n"
     ]
    },
    {
     "data": {
      "application/vnd.jupyter.widget-view+json": {
       "model_id": "7638b6bbd32344b69d971f012d48d525",
       "version_major": 2,
       "version_minor": 0
      },
      "text/plain": [
       "  0%|          | 0/267 [00:00<?, ?it/s]"
      ]
     },
     "metadata": {},
     "output_type": "display_data"
    },
    {
     "name": "stdout",
     "output_type": "stream",
     "text": [
      "train MSE Loss = 0.03945473\n",
      "train MAE Loss = 0.08057844\n",
      "Epoch 4\n"
     ]
    },
    {
     "data": {
      "application/vnd.jupyter.widget-view+json": {
       "model_id": "27508c426cae420c944b2eef2faf6956",
       "version_major": 2,
       "version_minor": 0
      },
      "text/plain": [
       "  0%|          | 0/267 [00:00<?, ?it/s]"
      ]
     },
     "metadata": {},
     "output_type": "display_data"
    },
    {
     "name": "stdout",
     "output_type": "stream",
     "text": [
      "train MSE Loss = 0.01919565\n",
      "train MAE Loss = 0.05537769\n",
      "Epoch 5\n"
     ]
    },
    {
     "data": {
      "application/vnd.jupyter.widget-view+json": {
       "model_id": "900103887f4940e0966745e8e52b72c6",
       "version_major": 2,
       "version_minor": 0
      },
      "text/plain": [
       "  0%|          | 0/267 [00:00<?, ?it/s]"
      ]
     },
     "metadata": {},
     "output_type": "display_data"
    },
    {
     "name": "stdout",
     "output_type": "stream",
     "text": [
      "train MSE Loss = 0.01279983\n",
      "train MAE Loss = 0.04557476\n",
      "Epoch 6\n"
     ]
    },
    {
     "data": {
      "application/vnd.jupyter.widget-view+json": {
       "model_id": "3b7d9ba33f56411887ca92e614b7898e",
       "version_major": 2,
       "version_minor": 0
      },
      "text/plain": [
       "  0%|          | 0/267 [00:00<?, ?it/s]"
      ]
     },
     "metadata": {},
     "output_type": "display_data"
    },
    {
     "name": "stdout",
     "output_type": "stream",
     "text": [
      "train MSE Loss = 0.00930111\n",
      "train MAE Loss = 0.03907509\n",
      "Epoch 7\n"
     ]
    },
    {
     "data": {
      "application/vnd.jupyter.widget-view+json": {
       "model_id": "982e2d4520be41f9849cf7012078dd38",
       "version_major": 2,
       "version_minor": 0
      },
      "text/plain": [
       "  0%|          | 0/267 [00:00<?, ?it/s]"
      ]
     },
     "metadata": {},
     "output_type": "display_data"
    },
    {
     "name": "stdout",
     "output_type": "stream",
     "text": [
      "train MSE Loss = 0.00738513\n",
      "train MAE Loss = 0.03441167\n",
      "Epoch 8\n"
     ]
    },
    {
     "data": {
      "application/vnd.jupyter.widget-view+json": {
       "model_id": "b1d09bfb429f48c3a7ec17df53b11bd9",
       "version_major": 2,
       "version_minor": 0
      },
      "text/plain": [
       "  0%|          | 0/267 [00:00<?, ?it/s]"
      ]
     },
     "metadata": {},
     "output_type": "display_data"
    },
    {
     "name": "stdout",
     "output_type": "stream",
     "text": [
      "train MSE Loss = 0.00629122\n",
      "train MAE Loss = 0.03120003\n",
      "Epoch 9\n"
     ]
    },
    {
     "data": {
      "application/vnd.jupyter.widget-view+json": {
       "model_id": "75b23ece05414b2d98ae70068b64715b",
       "version_major": 2,
       "version_minor": 0
      },
      "text/plain": [
       "  0%|          | 0/267 [00:00<?, ?it/s]"
      ]
     },
     "metadata": {},
     "output_type": "display_data"
    },
    {
     "name": "stdout",
     "output_type": "stream",
     "text": [
      "train MSE Loss = 0.00551879\n",
      "train MAE Loss = 0.02866816\n",
      "Epoch 10\n"
     ]
    },
    {
     "data": {
      "application/vnd.jupyter.widget-view+json": {
       "model_id": "6af1fbf89be743298f88b53a3d1772c1",
       "version_major": 2,
       "version_minor": 0
      },
      "text/plain": [
       "  0%|          | 0/267 [00:00<?, ?it/s]"
      ]
     },
     "metadata": {},
     "output_type": "display_data"
    },
    {
     "name": "stdout",
     "output_type": "stream",
     "text": [
      "train MSE Loss = 0.00488846\n",
      "train MAE Loss = 0.02674158\n"
     ]
    },
    {
     "data": {
      "text/plain": [
       "([3.246877978022179,\n",
       "  0.1696889300722531,\n",
       "  0.03945473243904471,\n",
       "  0.019195654575995515,\n",
       "  0.012799832478081911,\n",
       "  0.00930111450474528,\n",
       "  0.007385132167216265,\n",
       "  0.006291221199846698,\n",
       "  0.005518789049098443,\n",
       "  0.004888459340728513],\n",
       " [0.6382329,\n",
       "  0.17446727,\n",
       "  0.08057844,\n",
       "  0.05537769,\n",
       "  0.04557476,\n",
       "  0.039075088,\n",
       "  0.034411673,\n",
       "  0.03120003,\n",
       "  0.028668161,\n",
       "  0.026741581])"
      ]
     },
     "execution_count": 67,
     "metadata": {},
     "output_type": "execute_result"
    }
   ],
   "source": [
    "from predopt import predopt\n",
    "\n",
    "predopt(model, criterion, optimizer, train_predopt_dataloader, device, n_epochs=10, accum_iter=10)"
   ]
  },
  {
   "cell_type": "markdown",
   "metadata": {},
   "source": [
    "2 cpus\n",
    "0 workers = 0:59\n",
    "0 workers = 0:58\n",
    "0 workers = 0:58\n",
    "0 workers = 0:58\n",
    "1 worker  = 1:03\n",
    "1 worker  = 1:04\n",
    "2 workers = 1:03\n",
    "2 workers = 1:03\n",
    "2 workers = 1:05\n",
    "4 cpus\n",
    "0 workers = 1:05\n",
    "0 workers = 0:59\n",
    "0 workers = 0:55\n",
    "0 workers = 0:55\n",
    "1 worker  = 1:00\n",
    "1 worker  = 1:07\n",
    "1 worker  = 1:07\n",
    "2 workers = 1:07\n",
    "2 workers = 1:07\n",
    "4 workers = 1:08\n",
    "4 workers = 1:08\n",
    "\n",
    "0 workers = 1:04\n",
    "1:03\n",
    "1:03\n",
    "1:03"
   ]
  },
  {
   "cell_type": "code",
   "execution_count": null,
   "metadata": {},
   "outputs": [],
   "source": []
  },
  {
   "cell_type": "code",
   "execution_count": 10,
   "metadata": {},
   "outputs": [],
   "source": [
    "# torch.save(model.state_dict(), 'model_chk/predopt/PBE_4_256.param')"
   ]
  },
  {
   "cell_type": "code",
   "execution_count": 11,
   "metadata": {},
   "outputs": [],
   "source": [
    "# !cp model_chk/predopt/PBE_4_256.param model_chk/predopt/PBE_4_256.param_backup3"
   ]
  },
  {
   "cell_type": "code",
   "execution_count": null,
   "metadata": {},
   "outputs": [],
   "source": []
  },
  {
   "cell_type": "code",
   "execution_count": 9,
   "metadata": {},
   "outputs": [],
   "source": [
    "torch.cuda.empty_cache()"
   ]
  },
  {
   "cell_type": "code",
   "execution_count": 10,
   "metadata": {
    "tags": []
   },
   "outputs": [],
   "source": [
    "from tqdm.notebook import tqdm\n",
    "import os\n",
    "\n",
    "log_file_path = 'log/epoch_training.log'\n",
    "\n",
    "if os.path.isfile(log_file_path):\n",
    "    os.remove(log_file_path)"
   ]
  },
  {
   "cell_type": "code",
   "execution_count": 11,
   "metadata": {},
   "outputs": [],
   "source": [
    "def train(model, criterion, optimizer, train_loader, test_loader, n_epochs=20, accum_iter=4, verbose=False):\n",
    "    train_loss_mae = []\n",
    "    train_loss_mse = []\n",
    "    test_loss_mae = []\n",
    "    test_loss_mse = []\n",
    "\n",
    "    for epoch in range(n_epochs):\n",
    "        torch.autograd.set_detect_anomaly(True)\n",
    "        print(f'Epoch {epoch+1}')\n",
    "        # train\n",
    "        model.train()\n",
    "        progress_bar_train = tqdm(train_loader)\n",
    "        train_mae_losses_per_epoch = []\n",
    "        train_mse_losses_per_epoch = []\n",
    "        optimizer.zero_grad()\n",
    "        for batch_idx, (X_batch, y_batch) in enumerate(progress_bar_train):\n",
    "            # print(f'batch_idx = {batch_idx}')\n",
    "            \n",
    "            X_batch_grid, y_batch = X_batch['Grid'].to(device), y_batch.to(device)\n",
    "            predictions = model(X_batch_grid)\n",
    "            reaction_energy = calculate_reaction_energy(X_batch, predictions, device, rung='GGA', dft='PBE')\n",
    "\n",
    "            if verbose:\n",
    "                print(f\"{X_batch['Components']} pred {reaction_energy.item():4f} true {y_batch.item():4f}\")\n",
    "            loss = criterion(reaction_energy, y_batch)\n",
    "            MSE = loss.item()\n",
    "            MAE = torch.abs(reaction_energy - y_batch).item()\n",
    "            train_mse_losses_per_epoch.append(MSE)\n",
    "            train_mae_losses_per_epoch.append(MAE)\n",
    "            progress_bar_train.set_postfix(MSE = MSE, MAE = MAE)\n",
    "            \n",
    "            with open(log_file_path, 'a') as f:\n",
    "                f.write(f\"{X_batch['Components']} pred {reaction_energy.item():4f} true {y_batch.item():4f} MSE {MSE:4f} MAE {MAE:4f}\\n\")\n",
    "            \n",
    "            # loss_accumulation\n",
    "            loss = loss / accum_iter\n",
    "            loss.backward()\n",
    "            if ((batch_idx + 1) % accum_iter == 0) or (batch_idx + 1 == len(train_loader)):\n",
    "                optimizer.step()\n",
    "                optimizer.zero_grad()\n",
    "                \n",
    "            del X_batch, X_batch_grid, y_batch, predictions, reaction_energy\n",
    "            gc.collect()\n",
    "            torch.cuda.empty_cache()\n",
    "            # gpu_usage()\n",
    "        \n",
    "        train_loss_mse.append(np.mean(train_mse_losses_per_epoch))        \n",
    "        train_loss_mae.append(np.mean(train_mae_losses_per_epoch))\n",
    "\n",
    "        print(f'train MSE Loss = {train_loss_mse[epoch]:.8f} MAE Loss = {train_loss_mae[epoch]:.8f}')\n",
    "\n",
    "\n",
    "        \n",
    "        #test\n",
    "        model.eval()\n",
    "        progress_bar_test = tqdm(test_loader)\n",
    "        test_mae_losses_per_epoch = []\n",
    "        test_mse_losses_per_epoch = []\n",
    "        with torch.no_grad():\n",
    "            for X_batch, y_batch in progress_bar_test:\n",
    "                X_batch_grid, y_batch = X_batch['Grid'].to(device), y_batch.to(device)\n",
    "                # print(f\"{X_batch['Components']}\")\n",
    "                predictions = model(X_batch_grid)\n",
    "                reaction_energy = calculate_reaction_energy(X_batch, predictions, device, rung='GGA', dft='PBE')\n",
    "                loss = criterion(reaction_energy, y_batch)\n",
    "                MSE = loss.item()\n",
    "                MAE = torch.abs(reaction_energy - y_batch).item()\n",
    "                test_mse_losses_per_epoch.append(MSE)\n",
    "                test_mae_losses_per_epoch.append(MAE)\n",
    "                progress_bar_test.set_postfix(MSE = MSE, MAE = MAE)\n",
    "\n",
    "                \n",
    "                with open(log_file_path, 'a') as f:\n",
    "                    f.write(f\"{X_batch['Components']} pred {reaction_energy.item():4f} true {y_batch.item():4f} MSE {MSE:4f} MAE {MAE:4f}\\n\")\n",
    "                del X_batch, X_batch_grid, y_batch, predictions, reaction_energy, loss, MAE, MSE\n",
    "                gc.collect()\n",
    "                torch.cuda.empty_cache()\n",
    "                \n",
    "        test_loss_mse.append(np.mean(test_mse_losses_per_epoch))\n",
    "        test_loss_mae.append(np.mean(test_mae_losses_per_epoch))\n",
    "\n",
    "        print(f'test MSE Loss = {test_loss_mse[epoch]:.8f} MAE Loss = {test_loss_mae[epoch]:.8f}')\n",
    "\n",
    "    return train_loss_mae, test_loss_mae"
   ]
  },
  {
   "cell_type": "code",
   "execution_count": 12,
   "metadata": {},
   "outputs": [
    {
     "data": {
      "text/plain": [
       "<module 'PBE' from '/home/duzaripov/ML-parameterization-of-DFT-functionals/PBE.py'>"
      ]
     },
     "execution_count": 12,
     "metadata": {},
     "output_type": "execute_result"
    }
   ],
   "source": [
    "from importlib import reload\n",
    "import PBE\n",
    "import reaction_energy_calculation\n",
    "import utils\n",
    "import NN_models\n",
    "reload(NN_models)\n",
    "reload(utils)\n",
    "reload(reaction_energy_calculation)\n",
    "reload(PBE)"
   ]
  },
  {
   "cell_type": "code",
   "execution_count": 62,
   "metadata": {},
   "outputs": [
    {
     "data": {
      "text/plain": [
       "<All keys matched successfully>"
      ]
     },
     "execution_count": 62,
     "metadata": {},
     "output_type": "execute_result"
    }
   ],
   "source": [
    "model = NN_4_256(nconstants=24, DFT='PBE').to(device)\n",
    "model.zero_grad()\n",
    "model.load_state_dict(torch.load('model_chk/predopt/PBE_4_256.param', map_location=device))"
   ]
  },
  {
   "cell_type": "code",
   "execution_count": 10,
   "metadata": {},
   "outputs": [],
   "source": [
    "optimizer = torch.optim.RMSprop(model.parameters(), lr=3e-5)"
   ]
  },
  {
   "cell_type": "code",
   "execution_count": 11,
   "metadata": {
    "tags": []
   },
   "outputs": [
    {
     "name": "stdout",
     "output_type": "stream",
     "text": [
      "Epoch 1\n"
     ]
    },
    {
     "data": {
      "application/vnd.jupyter.widget-view+json": {
       "model_id": "6b63ee555c284b65a6668641733425f6",
       "version_major": 2,
       "version_minor": 0
      },
      "text/plain": [
       "  0%|          | 0/215 [00:00<?, ?it/s]"
      ]
     },
     "metadata": {},
     "output_type": "display_data"
    },
    {
     "name": "stdout",
     "output_type": "stream",
     "text": [
      "train MSE Loss = 8465.60605465 MAE Loss = 53.87331861\n"
     ]
    },
    {
     "data": {
      "application/vnd.jupyter.widget-view+json": {
       "model_id": "7c2a5128ced84c81b3ee036433c5a549",
       "version_major": 2,
       "version_minor": 0
      },
      "text/plain": [
       "  0%|          | 0/52 [00:00<?, ?it/s]"
      ]
     },
     "metadata": {},
     "output_type": "display_data"
    },
    {
     "name": "stdout",
     "output_type": "stream",
     "text": [
      "test MSE Loss = 34094.18989747 MAE Loss = 83.14116144\n",
      "Epoch 2\n"
     ]
    },
    {
     "data": {
      "application/vnd.jupyter.widget-view+json": {
       "model_id": "8177079bf6b445f1b6e4531d85f61acb",
       "version_major": 2,
       "version_minor": 0
      },
      "text/plain": [
       "  0%|          | 0/215 [00:00<?, ?it/s]"
      ]
     },
     "metadata": {},
     "output_type": "display_data"
    },
    {
     "name": "stdout",
     "output_type": "stream",
     "text": [
      "train MSE Loss = 2190.22490872 MAE Loss = 34.01288654\n"
     ]
    },
    {
     "data": {
      "application/vnd.jupyter.widget-view+json": {
       "model_id": "2755d40620d8460f943272d63db851cd",
       "version_major": 2,
       "version_minor": 0
      },
      "text/plain": [
       "  0%|          | 0/52 [00:00<?, ?it/s]"
      ]
     },
     "metadata": {},
     "output_type": "display_data"
    },
    {
     "name": "stdout",
     "output_type": "stream",
     "text": [
      "test MSE Loss = 23275.53128237 MAE Loss = 72.14960564\n",
      "Epoch 3\n"
     ]
    },
    {
     "data": {
      "application/vnd.jupyter.widget-view+json": {
       "model_id": "fd3ad9e9c9124f54bc19078882b49400",
       "version_major": 2,
       "version_minor": 0
      },
      "text/plain": [
       "  0%|          | 0/215 [00:00<?, ?it/s]"
      ]
     },
     "metadata": {},
     "output_type": "display_data"
    },
    {
     "name": "stdout",
     "output_type": "stream",
     "text": [
      "train MSE Loss = 1849.84428730 MAE Loss = 31.07253430\n"
     ]
    },
    {
     "data": {
      "application/vnd.jupyter.widget-view+json": {
       "model_id": "9379a8cd1653443ab0d8c2aff3f7e005",
       "version_major": 2,
       "version_minor": 0
      },
      "text/plain": [
       "  0%|          | 0/52 [00:00<?, ?it/s]"
      ]
     },
     "metadata": {},
     "output_type": "display_data"
    },
    {
     "name": "stdout",
     "output_type": "stream",
     "text": [
      "test MSE Loss = 53318.81130982 MAE Loss = 102.23796758\n",
      "Epoch 4\n"
     ]
    },
    {
     "data": {
      "application/vnd.jupyter.widget-view+json": {
       "model_id": "72b13097d52542599f00b83a4babc25a",
       "version_major": 2,
       "version_minor": 0
      },
      "text/plain": [
       "  0%|          | 0/215 [00:00<?, ?it/s]"
      ]
     },
     "metadata": {},
     "output_type": "display_data"
    },
    {
     "name": "stdout",
     "output_type": "stream",
     "text": [
      "train MSE Loss = 2086.35551928 MAE Loss = 31.24650761\n"
     ]
    },
    {
     "data": {
      "application/vnd.jupyter.widget-view+json": {
       "model_id": "6f14f619b3184e628063531512152d90",
       "version_major": 2,
       "version_minor": 0
      },
      "text/plain": [
       "  0%|          | 0/52 [00:00<?, ?it/s]"
      ]
     },
     "metadata": {},
     "output_type": "display_data"
    },
    {
     "name": "stdout",
     "output_type": "stream",
     "text": [
      "test MSE Loss = 40168.55407305 MAE Loss = 92.55536339\n",
      "Epoch 5\n"
     ]
    },
    {
     "data": {
      "application/vnd.jupyter.widget-view+json": {
       "model_id": "8dead25c3ba0464a81752db26200a184",
       "version_major": 2,
       "version_minor": 0
      },
      "text/plain": [
       "  0%|          | 0/215 [00:00<?, ?it/s]"
      ]
     },
     "metadata": {},
     "output_type": "display_data"
    },
    {
     "name": "stdout",
     "output_type": "stream",
     "text": [
      "train MSE Loss = 1523.87002675 MAE Loss = 28.74556810\n"
     ]
    },
    {
     "data": {
      "application/vnd.jupyter.widget-view+json": {
       "model_id": "7ec4e65b6c2a49258fddc9bc55f6c3ac",
       "version_major": 2,
       "version_minor": 0
      },
      "text/plain": [
       "  0%|          | 0/52 [00:00<?, ?it/s]"
      ]
     },
     "metadata": {},
     "output_type": "display_data"
    },
    {
     "name": "stdout",
     "output_type": "stream",
     "text": [
      "test MSE Loss = 34484.94680863 MAE Loss = 85.57210516\n",
      "Epoch 6\n"
     ]
    },
    {
     "data": {
      "application/vnd.jupyter.widget-view+json": {
       "model_id": "9892d837799e421ab1f42a2b0878c0d6",
       "version_major": 2,
       "version_minor": 0
      },
      "text/plain": [
       "  0%|          | 0/215 [00:00<?, ?it/s]"
      ]
     },
     "metadata": {},
     "output_type": "display_data"
    },
    {
     "ename": "KeyboardInterrupt",
     "evalue": "",
     "output_type": "error",
     "traceback": [
      "\u001b[0;31m---------------------------------------------------------------------------\u001b[0m",
      "\u001b[0;31mKeyboardInterrupt\u001b[0m                         Traceback (most recent call last)",
      "Input \u001b[0;32mIn [11]\u001b[0m, in \u001b[0;36m<cell line: 4>\u001b[0;34m()\u001b[0m\n\u001b[1;32m      1\u001b[0m N_EPOCHS \u001b[38;5;241m=\u001b[39m \u001b[38;5;241m25\u001b[39m\n\u001b[1;32m      2\u001b[0m ACCUM_ITER \u001b[38;5;241m=\u001b[39m \u001b[38;5;241m5\u001b[39m\n\u001b[0;32m----> 4\u001b[0m train_loss_mae, test_loss_mae \u001b[38;5;241m=\u001b[39m \u001b[43mtrain\u001b[49m\u001b[43m(\u001b[49m\u001b[43mmodel\u001b[49m\u001b[43m,\u001b[49m\u001b[43m \u001b[49m\u001b[43mcriterion\u001b[49m\u001b[43m,\u001b[49m\u001b[43m \u001b[49m\u001b[43moptimizer\u001b[49m\u001b[43m,\u001b[49m\n\u001b[1;32m      5\u001b[0m \u001b[43m                       \u001b[49m\u001b[43mtrain_dataloader\u001b[49m\u001b[43m,\u001b[49m\u001b[43m \u001b[49m\u001b[43mtest_dataloader\u001b[49m\u001b[43m,\u001b[49m\n\u001b[1;32m      6\u001b[0m \u001b[43m                       \u001b[49m\u001b[43mn_epochs\u001b[49m\u001b[38;5;241;43m=\u001b[39;49m\u001b[43mN_EPOCHS\u001b[49m\u001b[43m,\u001b[49m\u001b[43m \u001b[49m\u001b[43maccum_iter\u001b[49m\u001b[38;5;241;43m=\u001b[39;49m\u001b[43mACCUM_ITER\u001b[49m\u001b[43m)\u001b[49m\n",
      "Input \u001b[0;32mIn [8]\u001b[0m, in \u001b[0;36mtrain\u001b[0;34m(model, criterion, optimizer, train_loader, test_loader, n_epochs, accum_iter, verbose)\u001b[0m\n\u001b[1;32m     19\u001b[0m X_batch_grid, y_batch \u001b[38;5;241m=\u001b[39m X_batch[\u001b[38;5;124m'\u001b[39m\u001b[38;5;124mGrid\u001b[39m\u001b[38;5;124m'\u001b[39m]\u001b[38;5;241m.\u001b[39mto(device), y_batch\u001b[38;5;241m.\u001b[39mto(device)\n\u001b[1;32m     20\u001b[0m predictions \u001b[38;5;241m=\u001b[39m model(X_batch_grid)\n\u001b[0;32m---> 21\u001b[0m reaction_energy \u001b[38;5;241m=\u001b[39m \u001b[43mcalculate_reaction_energy\u001b[49m\u001b[43m(\u001b[49m\u001b[43mX_batch\u001b[49m\u001b[43m,\u001b[49m\u001b[43m \u001b[49m\u001b[43mpredictions\u001b[49m\u001b[43m,\u001b[49m\u001b[43m \u001b[49m\u001b[43mdevice\u001b[49m\u001b[43m,\u001b[49m\u001b[43m \u001b[49m\u001b[43mrung\u001b[49m\u001b[38;5;241;43m=\u001b[39;49m\u001b[38;5;124;43m'\u001b[39;49m\u001b[38;5;124;43mGGA\u001b[39;49m\u001b[38;5;124;43m'\u001b[39;49m\u001b[43m,\u001b[49m\u001b[43m \u001b[49m\u001b[43mdft\u001b[49m\u001b[38;5;241;43m=\u001b[39;49m\u001b[38;5;124;43m'\u001b[39;49m\u001b[38;5;124;43mPBE\u001b[39;49m\u001b[38;5;124;43m'\u001b[39;49m\u001b[43m)\u001b[49m\n\u001b[1;32m     23\u001b[0m \u001b[38;5;28;01mif\u001b[39;00m verbose:\n\u001b[1;32m     24\u001b[0m     \u001b[38;5;28mprint\u001b[39m(\u001b[38;5;124mf\u001b[39m\u001b[38;5;124m\"\u001b[39m\u001b[38;5;132;01m{\u001b[39;00mX_batch[\u001b[38;5;124m'\u001b[39m\u001b[38;5;124mComponents\u001b[39m\u001b[38;5;124m'\u001b[39m]\u001b[38;5;132;01m}\u001b[39;00m\u001b[38;5;124m pred \u001b[39m\u001b[38;5;132;01m{\u001b[39;00mreaction_energy\u001b[38;5;241m.\u001b[39mitem()\u001b[38;5;132;01m:\u001b[39;00m\u001b[38;5;124m4f\u001b[39m\u001b[38;5;132;01m}\u001b[39;00m\u001b[38;5;124m true \u001b[39m\u001b[38;5;132;01m{\u001b[39;00my_batch\u001b[38;5;241m.\u001b[39mitem()\u001b[38;5;132;01m:\u001b[39;00m\u001b[38;5;124m4f\u001b[39m\u001b[38;5;132;01m}\u001b[39;00m\u001b[38;5;124m\"\u001b[39m)\n",
      "File \u001b[0;32m~/ML-parameterization-of-DFT-functionals/reaction_energy_calculation.py:72\u001b[0m, in \u001b[0;36mcalculate_reaction_energy\u001b[0;34m(reaction, constants, device, rung, dft)\u001b[0m\n\u001b[1;32m     71\u001b[0m \u001b[38;5;28;01mdef\u001b[39;00m \u001b[38;5;21mcalculate_reaction_energy\u001b[39m(reaction, constants, device, rung, dft):\n\u001b[0;32m---> 72\u001b[0m     local_energies \u001b[38;5;241m=\u001b[39m \u001b[43mget_local_energies\u001b[49m\u001b[43m(\u001b[49m\u001b[43mreaction\u001b[49m\u001b[43m,\u001b[49m\u001b[43m \u001b[49m\u001b[43mconstants\u001b[49m\u001b[43m,\u001b[49m\u001b[43m \u001b[49m\u001b[43mdevice\u001b[49m\u001b[43m,\u001b[49m\u001b[43m \u001b[49m\u001b[43mrung\u001b[49m\u001b[43m,\u001b[49m\u001b[43m \u001b[49m\u001b[43mdft\u001b[49m\u001b[43m)\u001b[49m\n\u001b[1;32m     73\u001b[0m     \u001b[38;5;28;01mif\u001b[39;00m local_energies[\u001b[38;5;124m'\u001b[39m\u001b[38;5;124mLocal_energies\u001b[39m\u001b[38;5;124m'\u001b[39m]\u001b[38;5;241m.\u001b[39misnan()\u001b[38;5;241m.\u001b[39many():\n\u001b[1;32m     74\u001b[0m         \u001b[38;5;28mprint\u001b[39m(local_energies[\u001b[38;5;124m'\u001b[39m\u001b[38;5;124mLocal_energies\u001b[39m\u001b[38;5;124m'\u001b[39m]\u001b[38;5;241m.\u001b[39misnan()\u001b[38;5;241m.\u001b[39msum())\n",
      "File \u001b[0;32m~/ML-parameterization-of-DFT-functionals/reaction_energy_calculation.py:22\u001b[0m, in \u001b[0;36mget_local_energies\u001b[0;34m(reaction, constants, device, rung, dft)\u001b[0m\n\u001b[1;32m     20\u001b[0m gradients \u001b[38;5;241m=\u001b[39m (reaction[\u001b[38;5;124m'\u001b[39m\u001b[38;5;124mGradients\u001b[39m\u001b[38;5;124m'\u001b[39m])\u001b[38;5;241m.\u001b[39mto(device)\n\u001b[1;32m     21\u001b[0m \u001b[38;5;28;01mif\u001b[39;00m dft \u001b[38;5;241m==\u001b[39m \u001b[38;5;124m'\u001b[39m\u001b[38;5;124mPBE\u001b[39m\u001b[38;5;124m'\u001b[39m:\n\u001b[0;32m---> 22\u001b[0m     local_energies \u001b[38;5;241m=\u001b[39m \u001b[43mF_PBE\u001b[49m\u001b[43m(\u001b[49m\u001b[43mdensities\u001b[49m\u001b[43m,\u001b[49m\u001b[43m \u001b[49m\u001b[43mgradients\u001b[49m\u001b[43m,\u001b[49m\u001b[43m \u001b[49m\u001b[43mconstants\u001b[49m\u001b[43m,\u001b[49m\u001b[43m \u001b[49m\u001b[43mdevice\u001b[49m\u001b[43m)\u001b[49m\n\u001b[1;32m     23\u001b[0m \u001b[38;5;28;01melif\u001b[39;00m dft \u001b[38;5;241m==\u001b[39m \u001b[38;5;124m'\u001b[39m\u001b[38;5;124mPBE_new\u001b[39m\u001b[38;5;124m'\u001b[39m:\n\u001b[1;32m     24\u001b[0m     local_energies \u001b[38;5;241m=\u001b[39m F_PBE_new(densities, gradients, constants, device)\n",
      "File \u001b[0;32m~/ML-parameterization-of-DFT-functionals/PBE.py:201\u001b[0m, in \u001b[0;36mF_PBE\u001b[0;34m(rho, sigmas, c_arr, device)\u001b[0m\n\u001b[1;32m    199\u001b[0m rs, z \u001b[38;5;241m=\u001b[39m rs_z_calc(rho)\n\u001b[1;32m    200\u001b[0m xs0, xs1, xt \u001b[38;5;241m=\u001b[39m xs_xt_calc(rho, sigmas)\n\u001b[0;32m--> 201\u001b[0m res_energy \u001b[38;5;241m=\u001b[39m PBE_X(rs, z, xt, xs0, xs1, c_arr) \u001b[38;5;241m+\u001b[39m \u001b[43mPBE_C\u001b[49m\u001b[43m(\u001b[49m\u001b[43mrs\u001b[49m\u001b[43m,\u001b[49m\u001b[43m \u001b[49m\u001b[43mz\u001b[49m\u001b[43m,\u001b[49m\u001b[43m \u001b[49m\u001b[43mxt\u001b[49m\u001b[43m,\u001b[49m\u001b[43m \u001b[49m\u001b[43mc_arr\u001b[49m\u001b[43m,\u001b[49m\u001b[43m \u001b[49m\u001b[43mdevice\u001b[49m\u001b[43m)\u001b[49m\n\u001b[1;32m    202\u001b[0m catch_nan(res_energy\u001b[38;5;241m=\u001b[39mres_energy)\n\u001b[1;32m    203\u001b[0m \u001b[38;5;28;01mreturn\u001b[39;00m res_energy\n",
      "File \u001b[0;32m~/ML-parameterization-of-DFT-functionals/PBE.py:137\u001b[0m, in \u001b[0;36mPBE_C\u001b[0;34m(rs, z, xt, c_arr, device)\u001b[0m\n\u001b[1;32m    136\u001b[0m \u001b[38;5;28;01mdef\u001b[39;00m \u001b[38;5;21mPBE_C\u001b[39m(rs, z, xt, c_arr, device):\n\u001b[0;32m--> 137\u001b[0m     res_PBE_C \u001b[38;5;241m=\u001b[39m \u001b[43mf_pw\u001b[49m\u001b[43m(\u001b[49m\u001b[43mrs\u001b[49m\u001b[43m,\u001b[49m\u001b[43m \u001b[49m\u001b[43mz\u001b[49m\u001b[43m,\u001b[49m\u001b[43m \u001b[49m\u001b[43mc_arr\u001b[49m\u001b[43m)\u001b[49m \u001b[38;5;241m+\u001b[39m fH(rs, z, tt(rs, z, xt), c_arr, device)\n\u001b[1;32m    138\u001b[0m     catch_nan(res_PBE_C\u001b[38;5;241m=\u001b[39mres_PBE_C)\n\u001b[1;32m    139\u001b[0m     \u001b[38;5;28;01mreturn\u001b[39;00m res_PBE_C\n",
      "File \u001b[0;32m~/ML-parameterization-of-DFT-functionals/PBE.py:92\u001b[0m, in \u001b[0;36mf_pw\u001b[0;34m(rs, z, c_arr)\u001b[0m\n\u001b[1;32m     91\u001b[0m \u001b[38;5;28;01mdef\u001b[39;00m \u001b[38;5;21mf_pw\u001b[39m(rs, z, c_arr):\n\u001b[0;32m---> 92\u001b[0m     res_f_pw \u001b[38;5;241m=\u001b[39m g(\u001b[38;5;241m0\u001b[39m, rs, c_arr) \u001b[38;5;241m+\u001b[39m z\u001b[38;5;241m*\u001b[39m\u001b[38;5;241m*\u001b[39m\u001b[38;5;241m4\u001b[39m\u001b[38;5;241m*\u001b[39mf_zeta(z)\u001b[38;5;241m*\u001b[39m(g(\u001b[38;5;241m1\u001b[39m, rs, c_arr) \u001b[38;5;241m-\u001b[39m \u001b[43mg\u001b[49m\u001b[43m(\u001b[49m\u001b[38;5;241;43m0\u001b[39;49m\u001b[43m,\u001b[49m\u001b[43m \u001b[49m\u001b[43mrs\u001b[49m\u001b[43m,\u001b[49m\u001b[43m \u001b[49m\u001b[43mc_arr\u001b[49m\u001b[43m)\u001b[49m \u001b[38;5;241m+\u001b[39m g(\u001b[38;5;241m2\u001b[39m, rs, c_arr)\u001b[38;5;241m/\u001b[39mc_arr[:, \u001b[38;5;241m2\u001b[39m]) \u001b[38;5;241m-\u001b[39m f_zeta(z)\u001b[38;5;241m*\u001b[39mg(\u001b[38;5;241m2\u001b[39m, rs, c_arr)\u001b[38;5;241m/\u001b[39mc_arr[:, \u001b[38;5;241m2\u001b[39m]\n\u001b[1;32m     94\u001b[0m     \u001b[38;5;66;03m# save_tensors(g0=g(0, rs, c_arr), z_tensor=z**4*f_zeta(z), g1=g(1, rs, c_arr), g2=g(2, rs, c_arr))\u001b[39;00m\n\u001b[1;32m     95\u001b[0m     catch_nan(res_f_pw\u001b[38;5;241m=\u001b[39mres_f_pw)\n",
      "File \u001b[0;32m~/ML-parameterization-of-DFT-functionals/PBE.py:83\u001b[0m, in \u001b[0;36mg\u001b[0;34m(k, rs, c_arr)\u001b[0m\n\u001b[1;32m     81\u001b[0m \u001b[38;5;28;01mdef\u001b[39;00m \u001b[38;5;21mg\u001b[39m(k, rs, c_arr):\n\u001b[1;32m     82\u001b[0m     eps \u001b[38;5;241m=\u001b[39m \u001b[38;5;241m1e-6\u001b[39m\n\u001b[0;32m---> 83\u001b[0m     g_aux_ \u001b[38;5;241m=\u001b[39m \u001b[43mg_aux\u001b[49m\u001b[43m(\u001b[49m\u001b[43mk\u001b[49m\u001b[43m,\u001b[49m\u001b[43m \u001b[49m\u001b[43mrs\u001b[49m\u001b[43m,\u001b[49m\u001b[43m \u001b[49m\u001b[43mc_arr\u001b[49m\u001b[43m)\u001b[49m\n\u001b[1;32m     84\u001b[0m     log \u001b[38;5;241m=\u001b[39m torch\u001b[38;5;241m.\u001b[39mlog1p(\u001b[38;5;241m1\u001b[39m\u001b[38;5;241m/\u001b[39m(\u001b[38;5;241m2\u001b[39m\u001b[38;5;241m*\u001b[39mc_arr[:, \u001b[38;5;241m15\u001b[39m:\u001b[38;5;241m18\u001b[39m][:, k]\u001b[38;5;241m*\u001b[39mg_aux_)) \u001b[38;5;241m+\u001b[39m eps\n\u001b[1;32m     85\u001b[0m     res_g \u001b[38;5;241m=\u001b[39m \u001b[38;5;241m-\u001b[39m\u001b[38;5;241m2\u001b[39m\u001b[38;5;241m*\u001b[39mc_arr[:, \u001b[38;5;241m15\u001b[39m:\u001b[38;5;241m18\u001b[39m][:, k]\u001b[38;5;241m*\u001b[39m(\u001b[38;5;241m1\u001b[39m \u001b[38;5;241m+\u001b[39m c_arr[:, \u001b[38;5;241m18\u001b[39m:\u001b[38;5;241m21\u001b[39m][:, k]\u001b[38;5;241m*\u001b[39mrs) \u001b[38;5;241m*\u001b[39m log\n",
      "File \u001b[0;32m~/ML-parameterization-of-DFT-functionals/PBE.py:76\u001b[0m, in \u001b[0;36mg_aux\u001b[0;34m(k, rs, c_arr)\u001b[0m\n\u001b[1;32m     75\u001b[0m \u001b[38;5;28;01mdef\u001b[39;00m \u001b[38;5;21mg_aux\u001b[39m(k, rs, c_arr):\n\u001b[0;32m---> 76\u001b[0m     res_g_aux \u001b[38;5;241m=\u001b[39m c_arr[:, \u001b[38;5;241m3\u001b[39m:\u001b[38;5;241m6\u001b[39m][:, k]\u001b[38;5;241m*\u001b[39mtorch\u001b[38;5;241m.\u001b[39msqrt(rs) \u001b[38;5;241m+\u001b[39m c_arr[:, \u001b[38;5;241m6\u001b[39m:\u001b[38;5;241m9\u001b[39m][:, k]\u001b[38;5;241m*\u001b[39mrs \u001b[38;5;241m+\u001b[39m c_arr[:, \u001b[38;5;241m9\u001b[39m:\u001b[38;5;241m12\u001b[39m][:, k]\u001b[38;5;241m*\u001b[39mrs\u001b[38;5;241m*\u001b[39m\u001b[38;5;241m*\u001b[39m\u001b[38;5;241m1.5\u001b[39m \u001b[38;5;241m+\u001b[39m \u001b[43mc_arr\u001b[49m\u001b[43m[\u001b[49m\u001b[43m:\u001b[49m\u001b[43m,\u001b[49m\u001b[43m \u001b[49m\u001b[38;5;241;43m12\u001b[39;49m\u001b[43m:\u001b[49m\u001b[38;5;241;43m15\u001b[39;49m\u001b[43m]\u001b[49m[:, k]\u001b[38;5;241m*\u001b[39mrs\u001b[38;5;241m*\u001b[39m\u001b[38;5;241m*\u001b[39m\u001b[38;5;241m2\u001b[39m\n\u001b[1;32m     77\u001b[0m     catch_nan(res_g_aux\u001b[38;5;241m=\u001b[39mres_g_aux, rs\u001b[38;5;241m=\u001b[39mrs, c_arr\u001b[38;5;241m=\u001b[39mc_arr)\n\u001b[1;32m     78\u001b[0m     \u001b[38;5;28;01mreturn\u001b[39;00m res_g_aux\n",
      "File \u001b[0;32m/opt/software/python/envs/pytorch1_11/lib/python3.10/traceback.py:209\u001b[0m, in \u001b[0;36mformat_stack\u001b[0;34m(f, limit)\u001b[0m\n\u001b[1;32m    205\u001b[0m         f \u001b[38;5;241m=\u001b[39m sys\u001b[38;5;241m.\u001b[39m_getframe()\u001b[38;5;241m.\u001b[39mf_back\n\u001b[1;32m    206\u001b[0m     print_list(extract_stack(f, limit\u001b[38;5;241m=\u001b[39mlimit), file\u001b[38;5;241m=\u001b[39mfile)\n\u001b[0;32m--> 209\u001b[0m \u001b[38;5;28;01mdef\u001b[39;00m \u001b[38;5;21mformat_stack\u001b[39m(f\u001b[38;5;241m=\u001b[39m\u001b[38;5;28;01mNone\u001b[39;00m, limit\u001b[38;5;241m=\u001b[39m\u001b[38;5;28;01mNone\u001b[39;00m):\n\u001b[1;32m    210\u001b[0m     \u001b[38;5;124;03m\"\"\"Shorthand for 'format_list(extract_stack(f, limit))'.\"\"\"\u001b[39;00m\n\u001b[1;32m    211\u001b[0m     \u001b[38;5;28;01mif\u001b[39;00m f \u001b[38;5;129;01mis\u001b[39;00m \u001b[38;5;28;01mNone\u001b[39;00m:\n",
      "\u001b[0;31mKeyboardInterrupt\u001b[0m: "
     ]
    }
   ],
   "source": [
    "N_EPOCHS = 25\n",
    "ACCUM_ITER = 5\n",
    "\n",
    "train_loss_mae, test_loss_mae = train(model, criterion, optimizer,\n",
    "                       train_dataloader, test_dataloader,\n",
    "                       n_epochs=N_EPOCHS, accum_iter=ACCUM_ITER)"
   ]
  },
  {
   "cell_type": "code",
   "execution_count": null,
   "metadata": {},
   "outputs": [],
   "source": []
  },
  {
   "cell_type": "code",
   "execution_count": 48,
   "metadata": {},
   "outputs": [
    {
     "data": {
      "text/plain": [
       "[<matplotlib.lines.Line2D at 0x2ad2c1f939d0>]"
      ]
     },
     "execution_count": 48,
     "metadata": {},
     "output_type": "execute_result"
    },
    {
     "data": {
      "image/png": "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\n",
      "text/plain": [
       "<Figure size 432x288 with 1 Axes>"
      ]
     },
     "metadata": {
      "needs_background": "light"
     },
     "output_type": "display_data"
    }
   ],
   "source": [
    "import matplotlib.pyplot as plt\n",
    "plt.plot(np.arange(N_EPOCHS), train_loss_mae)\n",
    "plt.plot(test_loss_mae)\n"
   ]
  },
  {
   "cell_type": "code",
   "execution_count": null,
   "metadata": {},
   "outputs": [],
   "source": []
  },
  {
   "cell_type": "code",
   "execution_count": null,
   "metadata": {},
   "outputs": [],
   "source": [
    "train_loss_mae"
   ]
  },
  {
   "cell_type": "code",
   "execution_count": 12,
   "metadata": {},
   "outputs": [],
   "source": [
    "def test_dft(train_loader, test_loader, c_arr, criterion, rung, dft, verbose=False, n_epochs=1, model_eval=False):\n",
    "    train_loss_mae = []\n",
    "    train_loss_mse = []\n",
    "    test_loss_mae = []\n",
    "    test_loss_mse = []\n",
    "\n",
    "    for epoch in range(n_epochs):\n",
    "        print(f'Epoch {epoch+1}')\n",
    "        # train\n",
    "\n",
    "        progress_bar_train = tqdm(train_loader)\n",
    "        train_mae_losses_per_epoch = []\n",
    "        train_mse_losses_per_epoch = []\n",
    "        for X_batch, y_batch in progress_bar_train:\n",
    "            # print(f\"{X_batch['Components']}\")\n",
    "            X_batch_grid, y_batch = X_batch['Grid'].to(device), y_batch.to(device)\n",
    "            # print(torch.tile(c_arr, [X_batch_grid.shape[0],1]))\n",
    "            if model_eval:\n",
    "                predictions = model(X_batch_grid)\n",
    "            else:\n",
    "                predictions = torch.tile(c_arr, [X_batch_grid.shape[0],1]).to(device)\n",
    "            reaction_energy = calculate_reaction_energy(X_batch, predictions, device, rung, dft)\n",
    "            loss = criterion(reaction_energy, y_batch)\n",
    "            MSE = loss.item()\n",
    "            MAE = torch.abs(reaction_energy - y_batch).item()\n",
    "            train_mse_losses_per_epoch.append(MSE)\n",
    "            train_mae_losses_per_epoch.append(MAE)\n",
    "            progress_bar_train.set_postfix(MSE = MSE, MAE = MAE)\n",
    "            if verbose:\n",
    "                print(f\"{X_batch['Components']} pred {reaction_energy.item():4f} true {y_batch.item():4f} MSE {MSE:4f} MAE {MAE:4f}\")\n",
    "\n",
    "            del X_batch, X_batch_grid, y_batch, predictions, reaction_energy, loss, MAE, MSE\n",
    "            gc.collect()\n",
    "            torch.cuda.empty_cache()\n",
    "\n",
    "        \n",
    "        train_loss_mse.append(np.mean(train_mse_losses_per_epoch))        \n",
    "        train_loss_mae.append(np.mean(train_mae_losses_per_epoch))\n",
    "\n",
    "        print(f'train MSE Loss = {train_loss_mse[epoch]:.8f} MAE Loss = {train_loss_mae[epoch]:.8f}')\n",
    "\n",
    "\n",
    "        \n",
    "        #test\n",
    "        progress_bar_test = tqdm(test_loader)\n",
    "        test_mae_losses_per_epoch = []\n",
    "        test_mse_losses_per_epoch = []\n",
    "        for X_batch, y_batch in progress_bar_test:\n",
    "            # print(f\"{X_batch['Components']}\")\n",
    "            X_batch_grid, y_batch = X_batch['Grid'].to(device), y_batch.to(device)\n",
    "            if model_eval:\n",
    "                predictions = model(X_batch_grid)\n",
    "            else:\n",
    "                predictions = torch.tile(c_arr, [X_batch_grid.shape[0],1]).to(device)\n",
    "            reaction_energy = calculate_reaction_energy(X_batch, predictions, device, rung, dft)\n",
    "            loss = criterion(reaction_energy, y_batch)\n",
    "            MSE = loss.item()\n",
    "            MAE = torch.abs(reaction_energy - y_batch).item()\n",
    "            # progress_bar_train.set_postfix(MAE = MAE)\n",
    "            test_mse_losses_per_epoch.append(MSE)\n",
    "            test_mae_losses_per_epoch.append(MAE)\n",
    "            if verbose:\n",
    "                print(f\"{X_batch['Components']} pred {reaction_energy.item():4f} true {y_batch.item():4f} MSE {MSE:4f} MAE {MAE:4f}\")\n",
    "            \n",
    "            del X_batch, X_batch_grid, y_batch, predictions, reaction_energy, loss, MAE, MSE\n",
    "            gc.collect()\n",
    "            torch.cuda.empty_cache()\n",
    "                \n",
    "        test_loss_mse.append(np.mean(test_mse_losses_per_epoch))\n",
    "        test_loss_mae.append(np.mean(test_mae_losses_per_epoch))\n",
    "\n",
    "        print(f'test MSE Loss = {test_loss_mse[epoch]:.8f} MAE Loss = {test_loss_mae[epoch]:.8f}')\n",
    "\n",
    "    return train_loss_mae"
   ]
  },
  {
   "cell_type": "code",
   "execution_count": 22,
   "metadata": {},
   "outputs": [],
   "source": [
    "from importlib import reload\n",
    "import NN_models\n",
    "reload(NN_models)\n",
    "from NN_models import NN_2_256, NN_8_256, NN_8_64\n",
    "# import SVWN3"
   ]
  },
  {
   "cell_type": "code",
   "execution_count": 23,
   "metadata": {},
   "outputs": [
    {
     "data": {
      "text/plain": [
       "<module 'PBE' from '/home/duzaripov/ML-parameterization-of-DFT-functionals/PBE.py'>"
      ]
     },
     "execution_count": 23,
     "metadata": {},
     "output_type": "execute_result"
    }
   ],
   "source": [
    "from importlib import reload\n",
    "import PBE\n",
    "import reaction_energy_calculation\n",
    "import utils\n",
    "import NN_models\n",
    "reload(NN_models)\n",
    "reload(utils)\n",
    "reload(reaction_energy_calculation)\n",
    "reload(PBE)"
   ]
  },
  {
   "cell_type": "code",
   "execution_count": 25,
   "metadata": {
    "tags": []
   },
   "outputs": [
    {
     "name": "stdout",
     "output_type": "stream",
     "text": [
      "Epoch 1\n"
     ]
    },
    {
     "data": {
      "application/vnd.jupyter.widget-view+json": {
       "model_id": "305b00318e0c46a19010399501455e99",
       "version_major": 2,
       "version_minor": 0
      },
      "text/plain": [
       "  0%|          | 0/215 [00:00<?, ?it/s]"
      ]
     },
     "metadata": {},
     "output_type": "display_data"
    },
    {
     "name": "stdout",
     "output_type": "stream",
     "text": [
      "train MSE Loss = 1323.55236654 MAE Loss = 26.41868493\n"
     ]
    },
    {
     "data": {
      "application/vnd.jupyter.widget-view+json": {
       "model_id": "edc27e0913554a739f63bdc1661da505",
       "version_major": 2,
       "version_minor": 0
      },
      "text/plain": [
       "  0%|          | 0/52 [00:00<?, ?it/s]"
      ]
     },
     "metadata": {},
     "output_type": "display_data"
    },
    {
     "name": "stdout",
     "output_type": "stream",
     "text": [
      "test MSE Loss = 2317.79404500 MAE Loss = 34.23535838\n"
     ]
    },
    {
     "data": {
      "text/plain": [
       "[26.418684932797454]"
      ]
     },
     "execution_count": 25,
     "metadata": {},
     "output_type": "execute_result"
    }
   ],
   "source": [
    "true_constants_SVWN = torch.Tensor([0.0310907, 0.01554535, \n",
    "                3.72744,   7.06042,\n",
    "                12.9352,   18.0578,\n",
    "                -0.10498,  -0.32500,\n",
    "                0.0310907,  0.01554535,  -1/(6*torch.pi**2),\n",
    "                13.0720,    20.1231,      1.06835,\n",
    "                42.7198,   101.578,      11.4813,\n",
    "                -0.409286,  -0.743294,   -0.228344,\n",
    "                1])\n",
    "\n",
    "true_constants_PBE = torch.Tensor([[0.06672455,\n",
    "       (1 - torch.log(torch.Tensor([2])))/(torch.pi**2),\n",
    "       1.709921,\n",
    "       7.5957, 14.1189, 10.357,\n",
    "       3.5876, 6.1977, 3.6231,\n",
    "       1.6382, 3.3662,  0.88026,\n",
    "       0.49294, 0.62517, 0.49671,\n",
    "       # 1,  1,  1,\n",
    "       0.031091, 0.015545, 0.016887,\n",
    "       0.21370,  0.20548,  0.11125,\n",
    "       -3/8*(3/torch.pi)**(1/3)*4**(2/3),\n",
    "       0.8040,\n",
    "       0.2195149727645171]])\n",
    "\n",
    "par_rpw92_constants = torch.Tensor([[0.06672455,\n",
    "       (1 - torch.log(torch.Tensor([2])))/(torch.pi**2),\n",
    "       1.709920934161365617563962776245,\n",
    "       7.5957, 14.1189, 10.357,\n",
    "       3.5876, 6.1977, 3.6231,\n",
    "       1.6382, 4.86059,  0.88026,\n",
    "       0.49294, 0.750188, 0.49671,\n",
    "       # 1,  1,  1,\n",
    "       0.0310907, 0.01554535, 0.0168869,\n",
    "       0.21370,  0.266529,  0.11125,\n",
    "       -3/8*(3/torch.pi)**(1/3)*4**(2/3),\n",
    "       0.8040,\n",
    "       0.2195149727645171]])\n",
    "\n",
    "\n",
    "# true_constants\n",
    "\n",
    "test_dft(train_dataloader, test_dataloader, true_constants_PBE, criterion, rung='GGA', dft='PBE', verbose=False, model_eval=True)\n",
    "# test_dft(train_dataloader, test_dataloader, true_constants_SVWN, criterion, rung='LDA', dft='SVWN3', verbose=False)\n",
    "\n",
    "# broken_PBE 45.47375717 35.76542641\n",
    "# Mean Absolute Error, kcal/mol\n",
    "# DFT              train        test\n",
    "# SVWN3            32.63222432 26.81526929\n",
    "# PBE_sigma_broken 7.84055060  7.63013082\n",
    "# PBE_fixed        7.85833597  7.64929252\n",
    "# PBE_pred_4_256   27.07443217 29.64430402   "
   ]
  },
  {
   "cell_type": "code",
   "execution_count": null,
   "metadata": {},
   "outputs": [],
   "source": []
  },
  {
   "cell_type": "code",
   "execution_count": 16,
   "metadata": {},
   "outputs": [],
   "source": [
    "from importlib import reload\n",
    "import PBE\n",
    "import reaction_energy_calculation\n",
    "import utils\n",
    "import NN_models\n",
    "reload(NN_models)\n",
    "reload(utils)\n",
    "reload(reaction_energy_calculation)\n",
    "reload(PBE)\n",
    "from reaction_energy_calculation import calculate_reaction_energy"
   ]
  },
  {
   "cell_type": "code",
   "execution_count": 117,
   "metadata": {},
   "outputs": [
    {
     "data": {
      "text/plain": [
       "<module 'PBE' from '/home/duzaripov/ML-parameterization-of-DFT-functionals/PBE.py'>"
      ]
     },
     "execution_count": 117,
     "metadata": {},
     "output_type": "execute_result"
    }
   ],
   "source": [
    "from importlib import reload\n",
    "import PBE\n",
    "reload(PBE)\n",
    "# from PBE_new import F_PBE_new"
   ]
  },
  {
   "cell_type": "code",
   "execution_count": 35,
   "metadata": {},
   "outputs": [
    {
     "data": {
      "text/plain": [
       "tensor(104.6450347900390625000000000)"
      ]
     },
     "execution_count": 35,
     "metadata": {},
     "output_type": "execute_result"
    }
   ],
   "source": [
    "calculate_reaction_energy(data[73], torch.tile(true_constants_PBE, [data[73]['Grid'].shape[0],1]).to(device='cpu'), device='cpu', rung='GGA', dft='PBE')"
   ]
  },
  {
   "cell_type": "code",
   "execution_count": 100,
   "metadata": {},
   "outputs": [],
   "source": [
    "res_A = torch.load('log/res_A.pt')"
   ]
  },
  {
   "cell_type": "code",
   "execution_count": 101,
   "metadata": {},
   "outputs": [],
   "source": [
    "assert not torch.isnan(res_A).any()"
   ]
  },
 ],
 "metadata": {
  "kernelspec": {
   "display_name": "PyTorch 1.11 [python-pytorch1_11]",
   "language": "python",
   "name": "conda-env-python-pytorch1_11-py"
  },
  "language_info": {
   "codemirror_mode": {
    "name": "ipython",
    "version": 3
   },
   "file_extension": ".py",
   "mimetype": "text/x-python",
   "name": "python",
   "nbconvert_exporter": "python",
   "pygments_lexer": "ipython3",
   "version": "3.10.4"
  },
  "vscode": {
   "interpreter": {
    "hash": "a5e5bb8c7f59d999df07168cdddfd96f8fceb1d4deaee65f2787e1aa74655cd7"
   }
  }
 },
 "nbformat": 4,
 "nbformat_minor": 4
}
