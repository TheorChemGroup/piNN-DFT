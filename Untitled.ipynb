{
 "cells": [
  {
   "cell_type": "code",
   "execution_count": 1,
   "id": "388bfbff-0aba-4cf5-97ad-310eba9fc1d8",
   "metadata": {},
   "outputs": [
    {
     "name": "stderr",
     "output_type": "stream",
     "text": [
      "/opt/software/python/envs/pytorch1_11/lib/python3.10/site-packages/tqdm/auto.py:22: TqdmWarning: IProgress not found. Please update jupyter and ipywidgets. See https://ipywidgets.readthedocs.io/en/stable/user_install.html\n",
      "  from .autonotebook import tqdm as notebook_tqdm\n"
     ]
    }
   ],
   "source": [
    "import torch"
   ]
  },
  {
   "cell_type": "code",
   "execution_count": 4,
   "id": "99fd5fb6-e7c8-457e-9901-8c4da95581a4",
   "metadata": {},
   "outputs": [],
   "source": [
    "import numpy as np\n",
    "import torch\n",
    "\n",
    "\n",
    "# def constants_naming(c_arr):\n",
    "\n",
    "#     labels = ['A_vwn', 'b_vwn', 'c_vwn', 'x0_vwn', 'A_rpa', 'b_rpa', 'c_rpa', 'x0_rpa', 'params_a_alpha']\n",
    "#     values = [c_arr[0:2],c_arr[2:4],c_arr[4:6],c_arr[6:8],c_arr[8:11],c_arr[11:14],c_arr[14:17],c_arr[17:20], c_arr[20]]\n",
    "    \n",
    "#     return {labels[i]: values[i] for i in range(len(labels))}\n",
    "\n",
    "\n",
    "#VWN\n",
    "p_a_zeta_threshold = 1e-15\n",
    "\n",
    "fpp_vwn = 4/(9*(2**(1/3) - 1))\n",
    "\n",
    "\n",
    "def Q_vwn(b, c):\n",
    "    return torch.sqrt(4*c - b**2)\n",
    "\n",
    "\n",
    "def f1_vwn(b, c):\n",
    "    return 2*b/Q_vwn(b, c)\n",
    "\n",
    "\n",
    "def f2_vwn(b, c, x0):\n",
    "    return b*x0/(x0**2 + b*x0 + c)\n",
    "\n",
    "\n",
    "def f3_vwn(b, c, x0):\n",
    "    return 2*(2*x0 + b)/Q_vwn(b, c)\n",
    "\n",
    "\n",
    "def fx_vwn(b, c, rs):\n",
    "    return rs + b*torch.sqrt(rs) + c\n",
    "\n",
    "\n",
    "def opz_pow_n(z, n):\n",
    "    if 1 + z <= p_a_zeta_threshold:\n",
    "        return (p_a_zeta_threshold)^n\n",
    "    else:\n",
    "        return (1+z)**n\n",
    "\n",
    "\n",
    "def f_aux(A, b, c, x0, rs):\n",
    "    return A*(\n",
    "    + torch.log(rs/fx_vwn(b, c, rs))\n",
    "    + (f1_vwn(b, c) - f2_vwn(b, c, x0)*f3_vwn(b, c, x0))\n",
    "    * torch.arctan(Q_vwn(b, c)/(2*torch.sqrt(rs) + b))\n",
    "    - f2_vwn(b, c, x0)*torch.log((torch.sqrt(rs) - x0)**2/fx_vwn(b, c, rs)))\n",
    "\n",
    "\n",
    "def DMC(rs, z, c_arr):\n",
    "    return f_aux(c_arr[0:2][1], c_arr[2:4][1], c_arr[4:6][1], c_arr[6:8][1], rs) \\\n",
    "    - f_aux(c_arr[0:2][0], c_arr[2:4][0], c_arr[4:6][0], c_arr[6:8][0], rs)\n",
    "\n",
    "\n",
    "def DRPA(rs, z, c_arr):\n",
    "    return f_aux(c_arr[8:11][1], c_arr[11:14][1], c_arr[14:17][1], c_arr[17:20][1], rs) \\\n",
    "    - f_aux(c_arr[8:11][0], c_arr[11:14][0], c_arr[14:17][0], c_arr[17:20][0], rs)\n",
    "\n",
    "#VWN3\n",
    "\n",
    "\n",
    "def f_zeta(z): # - power threshold\n",
    "    return ((1 + z)**(4/3) + (1 - z)**(4/3) - 2)/(2**(4/3) - 2)\n",
    "\n",
    "\n",
    "def f_vwn(rs, z, c_arr):\n",
    "    return f_aux(c_arr[0:2][0], c_arr[2:4][0], c_arr[4:6][0], c_arr[6:8][0], rs) \\\n",
    "    + DMC(rs, z, c_arr)/DRPA(rs, z, c_arr)*f_aux(c_arr[8:11][2], c_arr[11:14][2], c_arr[14:17][2], c_arr[17:20][2], rs) \\\n",
    "    * f_zeta(z)*(1 - z**4)/fpp_vwn + DMC(rs, z, c_arr)*f_zeta(z)*z**4\n",
    "\n",
    "\n",
    "def rs_z_calc(rho):\n",
    "    rs = (3/((rho[0] + rho[1]) * (4 * torch.pi))) ** (1/3)\n",
    "    z = (rho[0] - rho[1]) / (rho[0] + rho[1])\n",
    "    print(type(rs), type(z))\n",
    "    return rs, z\n",
    "\n",
    "\n",
    "def f_vwn3(rho, c_arr):\n",
    "    rs, z = rs_z_calc(rho)\n",
    "    return f_vwn(rs, z, c_arr)\n",
    "\n",
    "\n",
    "#SLATER\n",
    "\n",
    "LDA_X_FACTOR = -3/8*(3/torch.pi)**(1/3)*4**(2/3)\n",
    "RS_FACTOR = (3/(4*torch.pi))**(1/3)\n",
    "DIMENSIONS = 3\n",
    "\n",
    "\n",
    "\n",
    "def f_lda_x(rs, z, c_arr): # - screen_dens threshold\n",
    "    return c_arr[20]*lda_x_spin(rs, z) + c_arr[20]*lda_x_spin(rs, -z)\n",
    "\n",
    "\n",
    "def lda_x_spin(rs, z):\n",
    "    return LDA_X_FACTOR*(z+1)**(1 + 1/DIMENSIONS)*2**(-1-1/DIMENSIONS)*(RS_FACTOR/rs)\n",
    "\n",
    "\n",
    "def f_slater(rho, c_arr):\n",
    "    rs, z = rs_z_calc(rho)\n",
    "    return f_lda_x(rs, z, c_arr)\n",
    "\n",
    "\n",
    "def f_svwn3(rho, c_arr):\n",
    "    '''rho.shape = (2, 1)'''\n",
    "    return f_slater(rho, c_arr) + f_vwn3(rho, c_arr)"
   ]
  },
  {
   "cell_type": "code",
   "execution_count": 5,
   "id": "fcbdf77b-ba09-4b16-af1b-dc49e05b8b94",
   "metadata": {},
   "outputs": [
    {
     "name": "stdout",
     "output_type": "stream",
     "text": [
      "<class 'float'> <class 'float'>\n",
      "<class 'float'> <class 'float'>\n"
     ]
    },
    {
     "ename": "TypeError",
     "evalue": "sqrt(): argument 'input' (position 1) must be Tensor, not float",
     "output_type": "error",
     "traceback": [
      "\u001b[0;31m---------------------------------------------------------------------------\u001b[0m",
      "\u001b[0;31mTypeError\u001b[0m                                 Traceback (most recent call last)",
      "Input \u001b[0;32mIn [5]\u001b[0m, in \u001b[0;36m<cell line: 1>\u001b[0;34m()\u001b[0m\n\u001b[0;32m----> 1\u001b[0m \u001b[43mf_svwn3\u001b[49m\u001b[43m(\u001b[49m\u001b[43m[\u001b[49m\u001b[38;5;241;43m1\u001b[39;49m\u001b[43m,\u001b[49m\u001b[38;5;241;43m2\u001b[39;49m\u001b[43m]\u001b[49m\u001b[43m,\u001b[49m\u001b[43m[\u001b[49m\u001b[38;5;241;43m0.0310907\u001b[39;49m\u001b[43m,\u001b[49m\u001b[43m \u001b[49m\u001b[38;5;241;43m0.01554535\u001b[39;49m\u001b[43m,\u001b[49m\u001b[43m \u001b[49m\n\u001b[1;32m      2\u001b[0m \u001b[43m                \u001b[49m\u001b[38;5;241;43m3.72744\u001b[39;49m\u001b[43m,\u001b[49m\u001b[43m   \u001b[49m\u001b[38;5;241;43m7.06042\u001b[39;49m\u001b[43m,\u001b[49m\n\u001b[1;32m      3\u001b[0m \u001b[43m                \u001b[49m\u001b[38;5;241;43m12.9352\u001b[39;49m\u001b[43m,\u001b[49m\u001b[43m   \u001b[49m\u001b[38;5;241;43m18.0578\u001b[39;49m\u001b[43m,\u001b[49m\n\u001b[1;32m      4\u001b[0m \u001b[43m                \u001b[49m\u001b[38;5;241;43m-\u001b[39;49m\u001b[38;5;241;43m0.10498\u001b[39;49m\u001b[43m,\u001b[49m\u001b[43m  \u001b[49m\u001b[38;5;241;43m-\u001b[39;49m\u001b[38;5;241;43m0.32500\u001b[39;49m\u001b[43m,\u001b[49m\n\u001b[1;32m      5\u001b[0m \u001b[43m                \u001b[49m\u001b[38;5;241;43m0.0310907\u001b[39;49m\u001b[43m,\u001b[49m\u001b[43m  \u001b[49m\u001b[38;5;241;43m0.01554535\u001b[39;49m\u001b[43m,\u001b[49m\u001b[43m  \u001b[49m\u001b[38;5;241;43m-\u001b[39;49m\u001b[38;5;241;43m1\u001b[39;49m\u001b[38;5;241;43m/\u001b[39;49m\u001b[43m(\u001b[49m\u001b[38;5;241;43m6\u001b[39;49m\u001b[38;5;241;43m*\u001b[39;49m\u001b[43mnp\u001b[49m\u001b[38;5;241;43m.\u001b[39;49m\u001b[43mpi\u001b[49m\u001b[38;5;241;43m*\u001b[39;49m\u001b[38;5;241;43m*\u001b[39;49m\u001b[38;5;241;43m2\u001b[39;49m\u001b[43m)\u001b[49m\u001b[43m,\u001b[49m\n\u001b[1;32m      6\u001b[0m \u001b[43m                \u001b[49m\u001b[38;5;241;43m13.0720\u001b[39;49m\u001b[43m,\u001b[49m\u001b[43m    \u001b[49m\u001b[38;5;241;43m20.1231\u001b[39;49m\u001b[43m,\u001b[49m\u001b[43m      \u001b[49m\u001b[38;5;241;43m1.06835\u001b[39;49m\u001b[43m,\u001b[49m\n\u001b[1;32m      7\u001b[0m \u001b[43m                \u001b[49m\u001b[38;5;241;43m42.7198\u001b[39;49m\u001b[43m,\u001b[49m\u001b[43m   \u001b[49m\u001b[38;5;241;43m101.578\u001b[39;49m\u001b[43m,\u001b[49m\u001b[43m      \u001b[49m\u001b[38;5;241;43m11.4813\u001b[39;49m\u001b[43m,\u001b[49m\n\u001b[1;32m      8\u001b[0m \u001b[43m                \u001b[49m\u001b[38;5;241;43m-\u001b[39;49m\u001b[38;5;241;43m0.409286\u001b[39;49m\u001b[43m,\u001b[49m\u001b[43m  \u001b[49m\u001b[38;5;241;43m-\u001b[39;49m\u001b[38;5;241;43m0.743294\u001b[39;49m\u001b[43m,\u001b[49m\u001b[43m   \u001b[49m\u001b[38;5;241;43m-\u001b[39;49m\u001b[38;5;241;43m0.228344\u001b[39;49m\u001b[43m,\u001b[49m\n\u001b[1;32m      9\u001b[0m \u001b[43m                \u001b[49m\u001b[38;5;241;43m1\u001b[39;49m\u001b[43m]\u001b[49m\u001b[43m)\u001b[49m\n",
      "Input \u001b[0;32mIn [4]\u001b[0m, in \u001b[0;36mf_svwn3\u001b[0;34m(rho, c_arr)\u001b[0m\n\u001b[1;32m    109\u001b[0m \u001b[38;5;28;01mdef\u001b[39;00m \u001b[38;5;21mf_svwn3\u001b[39m(rho, c_arr):\n\u001b[1;32m    110\u001b[0m     \u001b[38;5;124;03m'''rho.shape = (2, 1)'''\u001b[39;00m\n\u001b[0;32m--> 111\u001b[0m     \u001b[38;5;28;01mreturn\u001b[39;00m f_slater(rho, c_arr) \u001b[38;5;241m+\u001b[39m \u001b[43mf_vwn3\u001b[49m\u001b[43m(\u001b[49m\u001b[43mrho\u001b[49m\u001b[43m,\u001b[49m\u001b[43m \u001b[49m\u001b[43mc_arr\u001b[49m\u001b[43m)\u001b[49m\n",
      "Input \u001b[0;32mIn [4]\u001b[0m, in \u001b[0;36mf_vwn3\u001b[0;34m(rho, c_arr)\u001b[0m\n\u001b[1;32m     83\u001b[0m \u001b[38;5;28;01mdef\u001b[39;00m \u001b[38;5;21mf_vwn3\u001b[39m(rho, c_arr):\n\u001b[1;32m     84\u001b[0m     rs, z \u001b[38;5;241m=\u001b[39m rs_z_calc(rho)\n\u001b[0;32m---> 85\u001b[0m     \u001b[38;5;28;01mreturn\u001b[39;00m \u001b[43mf_vwn\u001b[49m\u001b[43m(\u001b[49m\u001b[43mrs\u001b[49m\u001b[43m,\u001b[49m\u001b[43m \u001b[49m\u001b[43mz\u001b[49m\u001b[43m,\u001b[49m\u001b[43m \u001b[49m\u001b[43mc_arr\u001b[49m\u001b[43m)\u001b[49m\n",
      "Input \u001b[0;32mIn [4]\u001b[0m, in \u001b[0;36mf_vwn\u001b[0;34m(rs, z, c_arr)\u001b[0m\n\u001b[1;32m     70\u001b[0m \u001b[38;5;28;01mdef\u001b[39;00m \u001b[38;5;21mf_vwn\u001b[39m(rs, z, c_arr):\n\u001b[0;32m---> 71\u001b[0m     \u001b[38;5;28;01mreturn\u001b[39;00m \u001b[43mf_aux\u001b[49m\u001b[43m(\u001b[49m\u001b[43mc_arr\u001b[49m\u001b[43m[\u001b[49m\u001b[38;5;241;43m0\u001b[39;49m\u001b[43m:\u001b[49m\u001b[38;5;241;43m2\u001b[39;49m\u001b[43m]\u001b[49m\u001b[43m[\u001b[49m\u001b[38;5;241;43m0\u001b[39;49m\u001b[43m]\u001b[49m\u001b[43m,\u001b[49m\u001b[43m \u001b[49m\u001b[43mc_arr\u001b[49m\u001b[43m[\u001b[49m\u001b[38;5;241;43m2\u001b[39;49m\u001b[43m:\u001b[49m\u001b[38;5;241;43m4\u001b[39;49m\u001b[43m]\u001b[49m\u001b[43m[\u001b[49m\u001b[38;5;241;43m0\u001b[39;49m\u001b[43m]\u001b[49m\u001b[43m,\u001b[49m\u001b[43m \u001b[49m\u001b[43mc_arr\u001b[49m\u001b[43m[\u001b[49m\u001b[38;5;241;43m4\u001b[39;49m\u001b[43m:\u001b[49m\u001b[38;5;241;43m6\u001b[39;49m\u001b[43m]\u001b[49m\u001b[43m[\u001b[49m\u001b[38;5;241;43m0\u001b[39;49m\u001b[43m]\u001b[49m\u001b[43m,\u001b[49m\u001b[43m \u001b[49m\u001b[43mc_arr\u001b[49m\u001b[43m[\u001b[49m\u001b[38;5;241;43m6\u001b[39;49m\u001b[43m:\u001b[49m\u001b[38;5;241;43m8\u001b[39;49m\u001b[43m]\u001b[49m\u001b[43m[\u001b[49m\u001b[38;5;241;43m0\u001b[39;49m\u001b[43m]\u001b[49m\u001b[43m,\u001b[49m\u001b[43m \u001b[49m\u001b[43mrs\u001b[49m\u001b[43m)\u001b[49m \\\n\u001b[1;32m     72\u001b[0m     \u001b[38;5;241m+\u001b[39m DMC(rs, z, c_arr)\u001b[38;5;241m/\u001b[39mDRPA(rs, z, c_arr)\u001b[38;5;241m*\u001b[39mf_aux(c_arr[\u001b[38;5;241m8\u001b[39m:\u001b[38;5;241m11\u001b[39m][\u001b[38;5;241m2\u001b[39m], c_arr[\u001b[38;5;241m11\u001b[39m:\u001b[38;5;241m14\u001b[39m][\u001b[38;5;241m2\u001b[39m], c_arr[\u001b[38;5;241m14\u001b[39m:\u001b[38;5;241m17\u001b[39m][\u001b[38;5;241m2\u001b[39m], c_arr[\u001b[38;5;241m17\u001b[39m:\u001b[38;5;241m20\u001b[39m][\u001b[38;5;241m2\u001b[39m], rs) \\\n\u001b[1;32m     73\u001b[0m     \u001b[38;5;241m*\u001b[39m f_zeta(z)\u001b[38;5;241m*\u001b[39m(\u001b[38;5;241m1\u001b[39m \u001b[38;5;241m-\u001b[39m z\u001b[38;5;241m*\u001b[39m\u001b[38;5;241m*\u001b[39m\u001b[38;5;241m4\u001b[39m)\u001b[38;5;241m/\u001b[39mfpp_vwn \u001b[38;5;241m+\u001b[39m DMC(rs, z, c_arr)\u001b[38;5;241m*\u001b[39mf_zeta(z)\u001b[38;5;241m*\u001b[39mz\u001b[38;5;241m*\u001b[39m\u001b[38;5;241m*\u001b[39m\u001b[38;5;241m4\u001b[39m\n",
      "Input \u001b[0;32mIn [4]\u001b[0m, in \u001b[0;36mf_aux\u001b[0;34m(A, b, c, x0, rs)\u001b[0m\n\u001b[1;32m     46\u001b[0m \u001b[38;5;28;01mdef\u001b[39;00m \u001b[38;5;21mf_aux\u001b[39m(A, b, c, x0, rs):\n\u001b[1;32m     47\u001b[0m     \u001b[38;5;28;01mreturn\u001b[39;00m A\u001b[38;5;241m*\u001b[39m(\n\u001b[0;32m---> 48\u001b[0m     \u001b[38;5;241m+\u001b[39m torch\u001b[38;5;241m.\u001b[39mlog(rs\u001b[38;5;241m/\u001b[39m\u001b[43mfx_vwn\u001b[49m\u001b[43m(\u001b[49m\u001b[43mb\u001b[49m\u001b[43m,\u001b[49m\u001b[43m \u001b[49m\u001b[43mc\u001b[49m\u001b[43m,\u001b[49m\u001b[43m \u001b[49m\u001b[43mrs\u001b[49m\u001b[43m)\u001b[49m)\n\u001b[1;32m     49\u001b[0m     \u001b[38;5;241m+\u001b[39m (f1_vwn(b, c) \u001b[38;5;241m-\u001b[39m f2_vwn(b, c, x0)\u001b[38;5;241m*\u001b[39mf3_vwn(b, c, x0))\n\u001b[1;32m     50\u001b[0m     \u001b[38;5;241m*\u001b[39m torch\u001b[38;5;241m.\u001b[39marctan(Q_vwn(b, c)\u001b[38;5;241m/\u001b[39m(\u001b[38;5;241m2\u001b[39m\u001b[38;5;241m*\u001b[39mtorch\u001b[38;5;241m.\u001b[39msqrt(rs) \u001b[38;5;241m+\u001b[39m b))\n\u001b[1;32m     51\u001b[0m     \u001b[38;5;241m-\u001b[39m f2_vwn(b, c, x0)\u001b[38;5;241m*\u001b[39mtorch\u001b[38;5;241m.\u001b[39mlog((torch\u001b[38;5;241m.\u001b[39msqrt(rs) \u001b[38;5;241m-\u001b[39m x0)\u001b[38;5;241m*\u001b[39m\u001b[38;5;241m*\u001b[39m\u001b[38;5;241m2\u001b[39m\u001b[38;5;241m/\u001b[39mfx_vwn(b, c, rs)))\n",
      "Input \u001b[0;32mIn [4]\u001b[0m, in \u001b[0;36mfx_vwn\u001b[0;34m(b, c, rs)\u001b[0m\n\u001b[1;32m     35\u001b[0m \u001b[38;5;28;01mdef\u001b[39;00m \u001b[38;5;21mfx_vwn\u001b[39m(b, c, rs):\n\u001b[0;32m---> 36\u001b[0m     \u001b[38;5;28;01mreturn\u001b[39;00m rs \u001b[38;5;241m+\u001b[39m b\u001b[38;5;241m*\u001b[39m\u001b[43mtorch\u001b[49m\u001b[38;5;241;43m.\u001b[39;49m\u001b[43msqrt\u001b[49m\u001b[43m(\u001b[49m\u001b[43mrs\u001b[49m\u001b[43m)\u001b[49m \u001b[38;5;241m+\u001b[39m c\n",
      "\u001b[0;31mTypeError\u001b[0m: sqrt(): argument 'input' (position 1) must be Tensor, not float"
     ]
    }
   ],
   "source": [
    "f_svwn3([1,2],[0.0310907, 0.01554535, \n",
    "                3.72744,   7.06042,\n",
    "                12.9352,   18.0578,\n",
    "                -0.10498,  -0.32500,\n",
    "                0.0310907,  0.01554535,  -1/(6*np.pi**2),\n",
    "                13.0720,    20.1231,      1.06835,\n",
    "                42.7198,   101.578,      11.4813,\n",
    "                -0.409286,  -0.743294,   -0.228344,\n",
    "                1])"
   ]
  },
  {
   "cell_type": "code",
   "execution_count": null,
   "id": "d34e10a6-165b-4dcd-9438-e74135deec52",
   "metadata": {},
   "outputs": [],
   "source": []
  }
 ],
 "metadata": {
  "kernelspec": {
   "display_name": "PyTorch 1.11 [python-pytorch1_11]",
   "language": "python",
   "name": "conda-env-python-pytorch1_11-py"
  },
  "language_info": {
   "codemirror_mode": {
    "name": "ipython",
    "version": 3
   },
   "file_extension": ".py",
   "mimetype": "text/x-python",
   "name": "python",
   "nbconvert_exporter": "python",
   "pygments_lexer": "ipython3",
   "version": "3.10.4"
  }
 },
 "nbformat": 4,
 "nbformat_minor": 5
}
